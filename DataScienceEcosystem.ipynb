{
 "cells": [
  {
   "cell_type": "markdown",
   "id": "5195bc44-1385-4ed3-a575-93456f55256d",
   "metadata": {},
   "source": [
    "# Data Science Tools and Ecosystem"
   ]
  },
  {
   "cell_type": "markdown",
   "id": "1309c322-6abd-4bce-9a46-4e532b8c9104",
   "metadata": {},
   "source": [
    "In this notebook, Data Science Tools and Ecosystem are summarized."
   ]
  },
  {
   "cell_type": "markdown",
   "id": "ebddcacc-f676-457f-bb0d-c7124628e524",
   "metadata": {},
   "source": [
    "**Objectives:**\n",
    "*   List popular languages for Data Science, such as Python and R.\n",
    "*   Libraries of Data Science.\n",
    "*   Understand the use of basic Python libraries.\n",
    "*   Intoduction to R and R studio.\n",
    "*   Machine Learning Models-Learning from models to make prediction."
   ]
  },
  {
   "cell_type": "markdown",
   "id": "cd2470ab-9b6f-4a1a-90c7-ec9c18a4f146",
   "metadata": {},
   "source": [
    "Some of the popular languages that Data Scientists use are:\n",
    "1. Python\n",
    "2. R\n",
    "3. SQL\n",
    "4. Julia"
   ]
  },
  {
   "cell_type": "markdown",
   "id": "93f6d0ab-bd0e-4c83-9759-6e8cf11f6479",
   "metadata": {},
   "source": [
    "Some of the commonly used libraries used by Data Scientists include:\n",
    "1.  NumPy: For numerical operations and array manipulation.\n",
    "2.  Pandas: For data manipulation and analysis, especially with tabular data.\n",
    "3.  Scikit-learn: For machine learning algorithms.\n",
    "4.  Matplotlib: For data visualization "
   ]
  },
  {
   "cell_type": "markdown",
   "id": "82af401f-0662-462e-b773-dcfae5154791",
   "metadata": {},
   "source": [
    "| Data Science Tools |\n",
    "| :--- |\n",
    "| <<!nav>>Jupyter Notebook<<!/nav>> |\n",
    "| <<!nav>>RStudio<<!/nav>> |\n",
    "| <<!nav>>VS Code<<!/nav>> (with Python extensions) |"
   ]
  },
  {
   "cell_type": "markdown",
   "id": "c9925d7a-c032-4df1-9546-590201d34b08",
   "metadata": {},
   "source": [
    "This cell will demonstrate arithmetic operations in Python.\n",
    "\n",
    "### Below are a few examples of evaluating arithmetic expressions in Python."
   ]
  },
  {
   "cell_type": "code",
   "execution_count": 5,
   "id": "7eca70f2-ed08-4107-8f15-de60e1e851eb",
   "metadata": {},
   "outputs": [
    {
     "data": {
      "text/plain": [
       "17"
      ]
     },
     "execution_count": 5,
     "metadata": {},
     "output_type": "execute_result"
    }
   ],
   "source": [
    "# This is a simple arithmetic expression to multiply then add integers.\n",
    "(3 * 4) + 5"
   ]
  },
  {
   "cell_type": "code",
   "execution_count": 6,
   "id": "dc3a9e5e-8daf-44fb-8b31-313c84b37f2b",
   "metadata": {},
   "outputs": [
    {
     "name": "stdout",
     "output_type": "stream",
     "text": [
      "3.3333333333333335\n"
     ]
    }
   ],
   "source": [
    "# This will convert 200 minutes to hours by dividing by 60\n",
    "hours = 200 / 60\n",
    "print(hours)"
   ]
  },
  {
   "cell_type": "markdown",
   "id": "ffe9f1cf-04bf-4266-b221-6e6f4ef34ac9",
   "metadata": {},
   "source": [
    "## Author\n",
    "R.K"
   ]
  },
  {
   "cell_type": "code",
   "execution_count": null,
   "id": "af555531-edac-4b36-b2ae-42fe2d227f2b",
   "metadata": {},
   "outputs": [],
   "source": []
  }
 ],
 "metadata": {
  "kernelspec": {
   "display_name": "Python 3 (ipykernel)",
   "language": "python",
   "name": "python3"
  },
  "language_info": {
   "codemirror_mode": {
    "name": "ipython",
    "version": 3
   },
   "file_extension": ".py",
   "mimetype": "text/x-python",
   "name": "python",
   "nbconvert_exporter": "python",
   "pygments_lexer": "ipython3",
   "version": "3.12.8"
  }
 },
 "nbformat": 4,
 "nbformat_minor": 5
}
